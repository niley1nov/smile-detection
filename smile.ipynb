{
  "nbformat": 4,
  "nbformat_minor": 0,
  "metadata": {
    "colab": {
      "name": "emotion.ipynb",
      "version": "0.3.2",
      "provenance": [],
      "collapsed_sections": [],
      "include_colab_link": true
    },
    "kernelspec": {
      "name": "python3",
      "display_name": "Python 3"
    },
    "accelerator": "GPU"
  },
  "cells": [
    {
      "cell_type": "markdown",
      "metadata": {
        "id": "view-in-github",
        "colab_type": "text"
      },
      "source": [
        "<a href=\"https://colab.research.google.com/github/niley1nov/smile-detection/blob/master/smile.ipynb\" target=\"_parent\"><img src=\"https://colab.research.google.com/assets/colab-badge.svg\" alt=\"Open In Colab\"/></a>"
      ]
    },
    {
      "cell_type": "code",
      "metadata": {
        "id": "EfnKYPu0x9r9",
        "colab_type": "code",
        "outputId": "802fcf54-9e94-4b59-b814-2b9271cb1017",
        "colab": {
          "base_uri": "https://localhost:8080/",
          "height": 92
        }
      },
      "source": [
        "import numpy as np\n",
        "from keras import backend as K\n",
        "from keras.models import Sequential, Model, load_model\n",
        "from keras.utils import plot_model\n",
        "from keras.layers import LSTM,Dense,Bidirectional,Dropout,Activation,Input,RepeatVector,Masking,regularizers\n",
        "from keras.layers import LeakyReLU,ReLU,TimeDistributed,concatenate,Concatenate,merge,BatchNormalization\n",
        "from keras.layers import AveragePooling1D,Conv2D,InputSpec,Lambda,MaxPool2D, Flatten\n",
        "from keras.optimizers import Nadam\n",
        "from keras.losses import binary_crossentropy\n",
        "from keras.preprocessing.image import ImageDataGenerator\n",
        "from scipy.stats.stats import pearsonr\n",
        "from sklearn.model_selection import train_test_split\n",
        "from sklearn.externals import joblib\n",
        "import pandas as pd\n",
        "import pydot as pyd\n",
        "import pickle\n",
        "import copy\n",
        "from IPython.display import SVG\n",
        "from keras.utils.vis_utils import model_to_dot\n",
        "import keras\n",
        "import shutil\n",
        "import glob\n",
        "import os\n",
        "from PIL import Image\n",
        "import matplotlib.pyplot as plt\n",
        "from sklearn.decomposition import PCA\n",
        "from keras.engine.topology import Layer\n",
        "from keras import initializers, regularizers, constraints\n",
        "from keras.regularizers import l1,l2\n",
        "from sklearn.preprocessing import MinMaxScaler,StandardScaler,RobustScaler\n",
        "import tensorflow as tf\n",
        "from keras.applications import VGG16"
      ],
      "execution_count": 1,
      "outputs": [
        {
          "output_type": "stream",
          "text": [
            "Using TensorFlow backend.\n",
            "/usr/local/lib/python3.6/dist-packages/sklearn/externals/joblib/__init__.py:15: DeprecationWarning: sklearn.externals.joblib is deprecated in 0.21 and will be removed in 0.23. Please import this functionality directly from joblib, which can be installed with: pip install joblib. If this warning is raised when loading pickled models, you may need to re-serialize those models with scikit-learn 0.21+.\n",
            "  warnings.warn(msg, category=DeprecationWarning)\n"
          ],
          "name": "stderr"
        }
      ]
    },
    {
      "cell_type": "code",
      "metadata": {
        "id": "chHsZ7N6DCCp",
        "colab_type": "code",
        "outputId": "bccfc7f0-7b74-47ff-cef5-e3097b966fc9",
        "colab": {
          "base_uri": "https://localhost:8080/",
          "height": 35
        }
      },
      "source": [
        "device_name = tf.test.gpu_device_name()\n",
        "if device_name != '/device:GPU:0':\n",
        "  raise SystemError('GPU device not found')\n",
        "print('Found GPU at: {}'.format(device_name))"
      ],
      "execution_count": 2,
      "outputs": [
        {
          "output_type": "stream",
          "text": [
            "Found GPU at: /device:GPU:0\n"
          ],
          "name": "stdout"
        }
      ]
    },
    {
      "cell_type": "code",
      "metadata": {
        "id": "Zyw0IpzTzIzx",
        "colab_type": "code",
        "outputId": "673ca62d-8ccc-4a43-8256-615c4d23dc96",
        "colab": {
          "base_uri": "https://localhost:8080/",
          "height": 55
        }
      },
      "source": [
        "from google.colab import drive\n",
        "drive.mount('/content/drive')"
      ],
      "execution_count": 3,
      "outputs": [
        {
          "output_type": "stream",
          "text": [
            "Drive already mounted at /content/drive; to attempt to forcibly remount, call drive.mount(\"/content/drive\", force_remount=True).\n"
          ],
          "name": "stdout"
        }
      ]
    },
    {
      "cell_type": "code",
      "metadata": {
        "id": "VcBlsn-nJkk9",
        "colab_type": "code",
        "outputId": "ad2c0387-4f3a-4c38-95dc-98c4b9a597d5",
        "colab": {
          "base_uri": "https://localhost:8080/",
          "height": 365
        }
      },
      "source": [
        "vgg_model = VGG16(include_top=False,weights='imagenet',input_shape=(64,64,3))\n",
        "for layer in vgg_model.layers[:-4]:\n",
        "  layer.trainable = False\n",
        "output = vgg_model.layers[-1].output\n",
        "output = Flatten()(output)\n",
        "output = Dense(128)(output)\n",
        "output = BatchNormalization()(output)\n",
        "output = LeakyReLU()(output)\n",
        "output = Dropout(0.3)(output)\n",
        "output = Dense(1,activation='sigmoid')(output)\n",
        "model = Model(input=vgg_model.inputs,output = output)"
      ],
      "execution_count": 4,
      "outputs": [
        {
          "output_type": "stream",
          "text": [
            "WARNING: Logging before flag parsing goes to stderr.\n",
            "W0815 18:07:46.516147 139755175774080 deprecation_wrapper.py:119] From /usr/local/lib/python3.6/dist-packages/keras/backend/tensorflow_backend.py:74: The name tf.get_default_graph is deprecated. Please use tf.compat.v1.get_default_graph instead.\n",
            "\n",
            "W0815 18:07:46.517959 139755175774080 deprecation_wrapper.py:119] From /usr/local/lib/python3.6/dist-packages/keras/backend/tensorflow_backend.py:517: The name tf.placeholder is deprecated. Please use tf.compat.v1.placeholder instead.\n",
            "\n",
            "W0815 18:07:46.524460 139755175774080 deprecation_wrapper.py:119] From /usr/local/lib/python3.6/dist-packages/keras/backend/tensorflow_backend.py:4138: The name tf.random_uniform is deprecated. Please use tf.random.uniform instead.\n",
            "\n",
            "W0815 18:07:46.553674 139755175774080 deprecation_wrapper.py:119] From /usr/local/lib/python3.6/dist-packages/keras/backend/tensorflow_backend.py:3976: The name tf.nn.max_pool is deprecated. Please use tf.nn.max_pool2d instead.\n",
            "\n",
            "W0815 18:07:46.876792 139755175774080 deprecation_wrapper.py:119] From /usr/local/lib/python3.6/dist-packages/keras/backend/tensorflow_backend.py:174: The name tf.get_default_session is deprecated. Please use tf.compat.v1.get_default_session instead.\n",
            "\n",
            "W0815 18:07:46.878257 139755175774080 deprecation_wrapper.py:119] From /usr/local/lib/python3.6/dist-packages/keras/backend/tensorflow_backend.py:181: The name tf.ConfigProto is deprecated. Please use tf.compat.v1.ConfigProto instead.\n",
            "\n",
            "W0815 18:07:47.745043 139755175774080 deprecation.py:506] From /usr/local/lib/python3.6/dist-packages/keras/backend/tensorflow_backend.py:3445: calling dropout (from tensorflow.python.ops.nn_ops) with keep_prob is deprecated and will be removed in a future version.\n",
            "Instructions for updating:\n",
            "Please use `rate` instead of `keep_prob`. Rate should be set to `rate = 1 - keep_prob`.\n",
            "/usr/local/lib/python3.6/dist-packages/ipykernel_launcher.py:11: UserWarning: Update your `Model` call to the Keras 2 API: `Model(inputs=[<tf.Tenso..., outputs=Tensor(\"de...)`\n",
            "  # This is added back by InteractiveShellApp.init_path()\n"
          ],
          "name": "stderr"
        }
      ]
    },
    {
      "cell_type": "code",
      "metadata": {
        "id": "3S-1cwUbn3Ml",
        "colab_type": "code",
        "colab": {}
      },
      "source": [
        "Y_train = []\n",
        "Y_test = []\n",
        "\n",
        "Y_train += len([l for l in glob.glob('drive/My Drive/colab/lfwcrop/train/nosmile/*')])*[[0]]\n",
        "Y_train += len([l for l in glob.glob('drive/My Drive/colab/lfwcrop/train/smile/*')])*[[1]]\n",
        "Y_test += len([l for l in glob.glob('drive/My Drive/colab/lfwcrop/test/nosmile/*')])*[[0]]\n",
        "Y_test += len([l for l in glob.glob('drive/My Drive/colab/lfwcrop/test/smile/*')])*[[1]]"
      ],
      "execution_count": 0,
      "outputs": []
    },
    {
      "cell_type": "code",
      "metadata": {
        "id": "1GAdpDYk_WK5",
        "colab_type": "code",
        "colab": {}
      },
      "source": [
        "def cat_loss(y_true, y_pred, axis=-1):\n",
        "  y_true = np.clip(y_true,K.epsilon(),1-K.epsilon())\n",
        "  y_pred = np.clip(y_pred,K.epsilon(),1-K.epsilon())\n",
        "  return -np.mean((y_true*np.log(y_pred))+((1-y_true)*np.log(1-y_pred)))\n",
        "\n",
        "def np_count(t, val):\n",
        "    elements_equal_to_value = np.equal(t, val)\n",
        "    as_ints = elements_equal_to_value.astype('int32')\n",
        "    count = np.sum(as_ints)\n",
        "    return count"
      ],
      "execution_count": 0,
      "outputs": []
    },
    {
      "cell_type": "code",
      "metadata": {
        "id": "bNbJVIxjVQko",
        "colab_type": "code",
        "outputId": "10719658-61b2-4f20-f191-93637b506e07",
        "colab": {
          "base_uri": "https://localhost:8080/",
          "height": 108
        }
      },
      "source": [
        "batch_size = 16\n",
        "\n",
        "train_generator = ImageDataGenerator(rescale=1/255.0)\n",
        "train_pred_generator = ImageDataGenerator(rescale=1/255.0)\n",
        "test_pred_generator = ImageDataGenerator(rescale=1/255.0)\n",
        "\n",
        "train_gen = train_generator.flow_from_directory(directory='drive/My Drive/colab/lfwcrop/train/',\n",
        "            target_size=(64,64),color_mode=\"rgb\",batch_size=16,class_mode=\"binary\",shuffle=True,seed=42)\n",
        "train_pred_gen = train_pred_generator.flow_from_directory(directory='drive/My Drive/colab/lfwcrop/train/',\n",
        "                 target_size=(64,64),color_mode=\"rgb\",batch_size=1,class_mode=None,shuffle=False,seed=42)\n",
        "test_pred_gen = test_pred_generator.flow_from_directory(directory='drive/My Drive/colab/lfwcrop/test/',\n",
        "                target_size=(64,64),color_mode=\"rgb\",batch_size=1,class_mode=None,shuffle=False,seed=42)\n",
        "\n",
        "train_size = len(train_pred_gen)\n",
        "test_size = len(test_pred_gen)\n",
        "print('train size:',train_size)\n",
        "print('test size:',test_size)"
      ],
      "execution_count": 7,
      "outputs": [
        {
          "output_type": "stream",
          "text": [
            "Found 962 images belonging to 2 classes.\n",
            "Found 962 images belonging to 2 classes.\n",
            "Found 241 images belonging to 2 classes.\n",
            "train size: 962\n",
            "test size: 241\n"
          ],
          "name": "stdout"
        }
      ]
    },
    {
      "cell_type": "code",
      "metadata": {
        "id": "hZ_I69-bbi79",
        "colab_type": "code",
        "colab": {
          "base_uri": "https://localhost:8080/",
          "height": 128
        },
        "outputId": "6f45cfd5-7cf7-4c35-b560-f71d3f72c70c"
      },
      "source": [
        "model.compile(optimizer=Nadam(),loss=binary_crossentropy)"
      ],
      "execution_count": 8,
      "outputs": [
        {
          "output_type": "stream",
          "text": [
            "W0815 18:07:48.181471 139755175774080 deprecation_wrapper.py:119] From /usr/local/lib/python3.6/dist-packages/keras/optimizers.py:790: The name tf.train.Optimizer is deprecated. Please use tf.compat.v1.train.Optimizer instead.\n",
            "\n",
            "W0815 18:07:48.192153 139755175774080 deprecation.py:323] From /usr/local/lib/python3.6/dist-packages/tensorflow/python/ops/nn_impl.py:180: add_dispatch_support.<locals>.wrapper (from tensorflow.python.ops.array_ops) is deprecated and will be removed in a future version.\n",
            "Instructions for updating:\n",
            "Use tf.where in 2.0, which has the same broadcast rule as np.where\n"
          ],
          "name": "stderr"
        }
      ]
    },
    {
      "cell_type": "code",
      "metadata": {
        "id": "7OgbC1-e_Z2r",
        "colab_type": "code",
        "outputId": "147f0b33-430e-414d-9826-7254733ce9df",
        "colab": {
          "base_uri": "https://localhost:8080/",
          "height": 999
        }
      },
      "source": [
        "num_epochs = 10\n",
        "batch_step = -1\n",
        "min_test_loss=99.0\n",
        "train_loss_lst = []\n",
        "train_acc_lst = []\n",
        "test_loss_lst = []\n",
        "test_acc_lst = []\n",
        "model_path = 'drive/My Drive/colab/lfwcrop/smile.h5'\n",
        "for epoch in range(num_epochs):\n",
        "    print('Epoch {}/{}'.format(epoch+1,num_epochs))\n",
        "    \n",
        "    model.fit_generator(train_gen,train_size//batch_size,use_multiprocessing=True,verbose=True)\n",
        "    \n",
        "    train_pred_gen.reset()\n",
        "    train_pred = model.predict_generator(train_pred_gen,steps=len(train_pred_gen),use_multiprocessing=True,verbose=False)\n",
        "    \n",
        "    test_pred_gen.reset()\n",
        "    test_pred = model.predict_generator(test_pred_gen,steps=len(test_pred_gen),use_multiprocessing=True,verbose=False) \n",
        "    \n",
        "    train_loss = cat_loss(Y_train,train_pred)\n",
        "    test_loss = cat_loss(Y_test,test_pred)\n",
        "    \n",
        "    train_pred_arg = np.int8(train_pred>=0.5)\n",
        "    test_pred_arg = np.int8(test_pred>=0.5)\n",
        "\n",
        "    train_acc = np_count(np.equal(train_pred_arg,Y_train), True)/train_size\n",
        "    test_acc = np_count(np.equal(test_pred_arg,Y_test), True)/test_size\n",
        "    \n",
        "    print('train loss: ',train_loss,'train acc: ',train_acc)\n",
        "    print('test loss: ',test_loss,'test_acc: ',test_acc)\n",
        "    train_loss_lst.append(train_loss)\n",
        "    train_acc_lst.append(train_acc)\n",
        "    test_loss_lst.append(test_loss)\n",
        "    test_acc_lst.append(test_acc)\n",
        "    if test_loss<=min_test_loss:\n",
        "      min_test_loss = test_loss\n",
        "      model.save(model_path)\n",
        "      print('model saved!')"
      ],
      "execution_count": 9,
      "outputs": [
        {
          "output_type": "stream",
          "text": [
            "Epoch 1/10\n",
            "Epoch 1/1\n",
            "60/60 [==============================] - 5s 83ms/step - loss: 0.2987\n",
            "train loss:  0.12348381410703513 train acc:  0.9563409563409564\n",
            "test loss:  0.10068545056281974 test_acc:  0.9626556016597511\n",
            "model saved!\n",
            "Epoch 2/10\n",
            "Epoch 1/1\n",
            "60/60 [==============================] - 2s 31ms/step - loss: 0.1383\n",
            "train loss:  0.03989059597252948 train acc:  0.9833679833679834\n",
            "test loss:  0.053233553769811294 test_acc:  0.979253112033195\n",
            "model saved!\n",
            "Epoch 3/10\n",
            "Epoch 1/1\n",
            "60/60 [==============================] - 2s 31ms/step - loss: 0.0947\n",
            "train loss:  0.024201235672700678 train acc:  0.9916839916839917\n",
            "test loss:  0.04976078129950599 test_acc:  0.979253112033195\n",
            "model saved!\n",
            "Epoch 4/10\n",
            "Epoch 1/1\n",
            "60/60 [==============================] - 2s 31ms/step - loss: 0.0558\n",
            "train loss:  0.007734496775470671 train acc:  0.998960498960499\n",
            "test loss:  0.041229192552474134 test_acc:  0.975103734439834\n",
            "model saved!\n",
            "Epoch 5/10\n",
            "Epoch 1/1\n",
            "60/60 [==============================] - 2s 31ms/step - loss: 0.0272\n",
            "train loss:  0.09092597907616463 train acc:  0.972972972972973\n",
            "test loss:  0.14367501253082332 test_acc:  0.950207468879668\n",
            "Epoch 6/10\n",
            "Epoch 1/1\n",
            "60/60 [==============================] - 2s 32ms/step - loss: 0.0383\n",
            "train loss:  0.03539252159962122 train acc:  0.9844074844074844\n",
            "test loss:  0.06299265433330412 test_acc:  0.975103734439834\n",
            "Epoch 7/10\n",
            "Epoch 1/1\n",
            "60/60 [==============================] - 2s 31ms/step - loss: 0.0425\n",
            "train loss:  0.04537703639099502 train acc:  0.9823284823284824\n",
            "test loss:  0.14971889658457754 test_acc:  0.9626556016597511\n",
            "Epoch 8/10\n",
            "Epoch 1/1\n",
            "60/60 [==============================] - 2s 31ms/step - loss: 0.0387\n",
            "train loss:  0.22094376119322667 train acc:  0.9345114345114345\n",
            "test loss:  0.47040583622861865 test_acc:  0.8962655601659751\n",
            "Epoch 9/10\n",
            "Epoch 1/1\n",
            "60/60 [==============================] - 2s 32ms/step - loss: 0.0147\n",
            "train loss:  0.007702270715763613 train acc:  0.997920997920998\n",
            "test loss:  0.05183579300972956 test_acc:  0.991701244813278\n",
            "Epoch 10/10\n",
            "Epoch 1/1\n",
            "60/60 [==============================] - 2s 32ms/step - loss: 0.0122\n",
            "train loss:  0.008148384817647137 train acc:  0.998960498960499\n",
            "test loss:  0.08010860007376581 test_acc:  0.9875518672199171\n"
          ],
          "name": "stdout"
        }
      ]
    },
    {
      "cell_type": "code",
      "metadata": {
        "id": "SJ-Z7TXFxO9J",
        "colab_type": "code",
        "colab": {
          "base_uri": "https://localhost:8080/",
          "height": 299
        },
        "outputId": "5d7a925e-fbff-48dc-e5c1-6b747c20e108"
      },
      "source": [
        "plt.figure()\n",
        "plt.title('train loss')\n",
        "plt.plot(train_loss_lst)"
      ],
      "execution_count": 10,
      "outputs": [
        {
          "output_type": "execute_result",
          "data": {
            "text/plain": [
              "[<matplotlib.lines.Line2D at 0x7f1a9a147ba8>]"
            ]
          },
          "metadata": {
            "tags": []
          },
          "execution_count": 10
        },
        {
          "output_type": "display_data",
          "data": {
            "image/png": "[encoded data removed]",
            "text/plain": [
              "<Figure size 432x288 with 1 Axes>"
            ]
          },
          "metadata": {
            "tags": []
          }
        }
      ]
    },
    {
      "cell_type": "code",
      "metadata": {
        "id": "Tj8OqEzGPWzz",
        "colab_type": "code",
        "colab": {
          "base_uri": "https://localhost:8080/",
          "height": 299
        },
        "outputId": "270b0c42-1f31-45c5-ed73-9f4a83c17736"
      },
      "source": [
        "plt.figure()\n",
        "plt.title('test loss')\n",
        "plt.plot(test_loss_lst)"
      ],
      "execution_count": 11,
      "outputs": [
        {
          "output_type": "execute_result",
          "data": {
            "text/plain": [
              "[<matplotlib.lines.Line2D at 0x7f1a9a08b630>]"
            ]
          },
          "metadata": {
            "tags": []
          },
          "execution_count": 11
        },
        {
          "output_type": "display_data",
          "data": {
            "image/png": "[encoded data removed]",
            "text/plain": [
              "<Figure size 432x288 with 1 Axes>"
            ]
          },
          "metadata": {
            "tags": []
          }
        }
      ]
    },
    {
      "cell_type": "code",
      "metadata": {
        "id": "cXdMKh3ePfzt",
        "colab_type": "code",
        "colab": {
          "base_uri": "https://localhost:8080/",
          "height": 299
        },
        "outputId": "4ac17344-e34f-4ad8-9d00-b441a9339931"
      },
      "source": [
        "plt.figure()\n",
        "plt.title('train acc')\n",
        "plt.plot(train_acc_lst)"
      ],
      "execution_count": 12,
      "outputs": [
        {
          "output_type": "execute_result",
          "data": {
            "text/plain": [
              "[<matplotlib.lines.Line2D at 0x7f1a857d0438>]"
            ]
          },
          "metadata": {
            "tags": []
          },
          "execution_count": 12
        },
        {
          "output_type": "display_data",
          "data": {
            "image/png": "[encoded data removed]",
            "text/plain": [
              "<Figure size 432x288 with 1 Axes>"
            ]
          },
          "metadata": {
            "tags": []
          }
        }
      ]
    },
    {
      "cell_type": "code",
      "metadata": {
        "id": "xl0gzvoOWoMM",
        "colab_type": "code",
        "colab": {
          "base_uri": "https://localhost:8080/",
          "height": 299
        },
        "outputId": "06fefc54-3991-49f1-f12a-73747e9745de"
      },
      "source": [
        "plt.figure()\n",
        "plt.title('test acc')\n",
        "plt.plot(test_acc_lst)"
      ],
      "execution_count": 13,
      "outputs": [
        {
          "output_type": "execute_result",
          "data": {
            "text/plain": [
              "[<matplotlib.lines.Line2D at 0x7f1a857a7d68>]"
            ]
          },
          "metadata": {
            "tags": []
          },
          "execution_count": 13
        },
        {
          "output_type": "display_data",
          "data": {
            "image/png": "[encoded data removed]",
            "text/plain": [
              "<Figure size 432x288 with 1 Axes>"
            ]
          },
          "metadata": {
            "tags": []
          }
        }
      ]
    },
    {
      "cell_type": "code",
      "metadata": {
        "id": "5FL77kkaYKn2",
        "colab_type": "code",
        "colab": {}
      },
      "source": [
        ""
      ],
      "execution_count": 0,
      "outputs": []
    }
  ]
}